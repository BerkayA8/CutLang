{
 "cells": [
  {
   "cell_type": "markdown",
   "metadata": {},
   "source": [
    "# CutLang\n",
    "\n",
    "*A Particle Physics Analysis Description Language and Runtime Interpreter*\n",
    "\n",
    "Here is a list of CutLang examples"
   ]
  },
  {
   "cell_type": "markdown",
   "metadata": {},
   "source": [
    "- ATLAS\n",
    "    - [ATLAS-OD-Z2L](ATLAS-OD-Z2L.ipynb) - **ATLASOD**\n",
    "        - This is an exercise showing a simple analysis exploring the Z -> 2 lepton final state, focusing on the e+e- and μ+μ- channels.\n",
    "        - The analysis aims to explore the kinematics of Z --> e+e- OR μ+μ- events.\n",
    "    \n",
    "- CMS\n",
    "    - [CMS-OD-12350-Htautau](CMS-OD-12350-Htautau.ipynb) - **CMSNANO**\n",
    "        - This is an exercise showing a simple analysis exploring the SM Higgs decays to tau tau in the tau mu final state: [https://opendata.web.cern.ch/record/12350](https://opendata.web.cern.ch/record/12350).\n",
    "        - The analysis aims to explore the kinematics of H --> tau tau and compare them with that of a prominent SM background process with the same final state. [https://opendata.web.cern.ch/record/12350](https://opendata.web.cern.ch/record/12350).\n",
    "    \n",
    "    - [CMS-OD-HZZ4L](CMS-OD-HZZ4L.ipynb) - **CMSODR2**\n",
    "        - This is an exercise showing a simple analysis exploring the SM Higgs decays to 4 lepton final state, focusing on the e+e-μ+μ- channel.\n",
    "        - The analysis aims to explore the kinematics of H --> 4 lepton events and compare them with that of a prominent SM background process with the same final state.\n",
    "    \n",
    "    - [CMS-OD-ZZ4L](CMS-OD-ZZ4L.ipynb) - **CMSODR2**\n",
    "        - This is an exercise showing a simple analysis exploring the ZZ -> 4 lepton final state, focusing on the e+e-μ+μ- channel.\n",
    "        - The analysis aims to explore the kinematics of ZZ --> e+e-μ+μ- events."
   ]
  }
 ],
 "metadata": {
  "kernelspec": {
   "display_name": "ROOT C++ with CutLang",
   "language": "c++",
   "name": "cutlang"
  },
  "language_info": {
   "codemirror_mode": "text/x-c++src",
   "file_extension": ".C",
   "mimetype": " text/x-c++src",
   "name": "c++"
  }
 },
 "nbformat": 4,
 "nbformat_minor": 4
}
